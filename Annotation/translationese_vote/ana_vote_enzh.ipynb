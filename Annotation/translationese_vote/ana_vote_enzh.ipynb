{
 "cells": [
  {
   "cell_type": "code",
   "execution_count": 1,
   "metadata": {},
   "outputs": [],
   "source": [
    "import json\n",
    "import csv\n",
    "\n",
    "import pandas as pd\n",
    "\n",
    "# Load the main sheet\n",
    "keys = json.load(open(\"./vote_keys.json\"))\n",
    "main_sheet_path = './enzh_vote.xlsx'  # Replace with your file path\n",
    "\n",
    "all_ranks = {}\n",
    "all_rank_tuples = {}\n",
    "for main_sheet_name in ['A1', 'A2', 'A3']:\n",
    "    # Read the main sheet into a DataFrame\n",
    "    df = pd.read_excel(main_sheet_path, sheet_name=main_sheet_name)\n",
    "    # Display the DataFrame\n",
    "    vote1 = df['Vote 1']\n",
    "    vote2 = df['Vote 2']\n",
    "    vote3 = df['Vote 3']\n",
    "\n",
    "    from collections import defaultdict\n",
    "    ranks = defaultdict(list)\n",
    "    rank_tuples = []\n",
    "    for i,k in enumerate(keys):\n",
    "        # print(k)\n",
    "        # print(ranks)\n",
    "\n",
    "        ranks[k[0]].append(vote1[i])\n",
    "        ranks[k[1]].append(vote2[i])\n",
    "        ranks[k[2]].append(vote3[i])\n",
    "\n",
    "        rank_tuples.append([ranks['raw'][-1],ranks['pol'][-1],ranks['trans'][-1]])\n",
    "    all_rank_tuples[main_sheet_name] = rank_tuples\n",
    "    all_ranks[main_sheet_name] = ranks"
   ]
  },
  {
   "cell_type": "code",
   "execution_count": 2,
   "metadata": {},
   "outputs": [
    {
     "name": "stdout",
     "output_type": "stream",
     "text": [
      "2.3283333333333336\n",
      "1.4483333333333335\n",
      "2.2266666666666666\n"
     ]
    },
    {
     "data": {
      "text/plain": [
       "{'A1': defaultdict(list, {'pol': 1.435, 'raw': 2.34, 'trans': 2.235}),\n",
       " 'A2': defaultdict(list, {'pol': 1.47, 'raw': 2.345, 'trans': 2.185}),\n",
       " 'A3': defaultdict(list, {'pol': 1.44, 'raw': 2.3, 'trans': 2.26})}"
      ]
     },
     "execution_count": 2,
     "metadata": {},
     "output_type": "execute_result"
    }
   ],
   "source": [
    "# calcluate average rank across annotators\n",
    "import numpy as np\n",
    "for k in all_ranks:\n",
    "    for kk in all_ranks[k]:\n",
    "        all_ranks[k][kk] = np.mean(all_ranks[k][kk])\n",
    "all_ranks\n",
    "# average rank across annotators\n",
    "for k in ['raw', 'pol', 'trans']:\n",
    "    avg_ranks = []\n",
    "    for anno in all_ranks:\n",
    "        avg_ranks.append(all_ranks[anno][k])\n",
    "    print(np.mean(avg_ranks))\n",
    "all_ranks\n"
   ]
  },
  {
   "cell_type": "code",
   "execution_count": 3,
   "metadata": {},
   "outputs": [
    {
     "name": "stdout",
     "output_type": "stream",
     "text": [
      "Kendall's Tau between A1 and A2: 0.5916666666666667\n",
      "Kendall's Tau between A1 and A3: 0.7416666666666666\n",
      "Kendall's Tau between A2 and A3: 0.6033333333333333\n",
      "Overall average Kendall's Tau: 0.6455555555555555\n"
     ]
    }
   ],
   "source": [
    "\n",
    "import numpy as np\n",
    "from scipy.stats import kendalltau\n",
    "\n",
    "# Annotator rankings\n",
    "A1 = np.array(all_rank_tuples[list(all_rank_tuples.keys())[0]])\n",
    "A2 = np.array(all_rank_tuples[list(all_rank_tuples.keys())[1]])\n",
    "A3 = np.array(all_rank_tuples[list(all_rank_tuples.keys())[2]])\n",
    "\n",
    "# Function to calculate Kendall's Tau between pairs of annotators\n",
    "def calculate_kendalls_tau(A1, A2):\n",
    "    taus = []\n",
    "    for i in range(A1.shape[0]):\n",
    "        tau, _ = kendalltau(A1[i], A2[i])\n",
    "        taus.append(tau)\n",
    "    return np.mean(taus)\n",
    "\n",
    "# Calculating pairwise Kendall's Tau\n",
    "tau_A1_A2 = calculate_kendalls_tau(A1, A2)\n",
    "tau_A1_A3 = calculate_kendalls_tau(A1, A3)\n",
    "tau_A2_A3 = calculate_kendalls_tau(A2, A3)\n",
    "\n",
    "# Averaging Kendall's Tau to get overall agreement\n",
    "average_tau = np.mean([tau_A1_A2, tau_A1_A3, tau_A2_A3])\n",
    "\n",
    "# Print the results\n",
    "print(f\"Kendall's Tau between A1 and A2: {tau_A1_A2}\")\n",
    "print(f\"Kendall's Tau between A1 and A3: {tau_A1_A3}\")\n",
    "print(f\"Kendall's Tau between A2 and A3: {tau_A2_A3}\")\n",
    "print(f\"Overall average Kendall's Tau: {average_tau}\")\n",
    "\n"
   ]
  },
  {
   "cell_type": "code",
   "execution_count": null,
   "metadata": {},
   "outputs": [],
   "source": []
  },
  {
   "cell_type": "code",
   "execution_count": null,
   "metadata": {},
   "outputs": [],
   "source": []
  }
 ],
 "metadata": {
  "kernelspec": {
   "display_name": "hf",
   "language": "python",
   "name": "python3"
  },
  "language_info": {
   "codemirror_mode": {
    "name": "ipython",
    "version": 3
   },
   "file_extension": ".py",
   "mimetype": "text/x-python",
   "name": "python",
   "nbconvert_exporter": "python",
   "pygments_lexer": "ipython3",
   "version": "3.8.18"
  }
 },
 "nbformat": 4,
 "nbformat_minor": 2
}
