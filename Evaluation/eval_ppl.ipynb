{
 "cells": [
  {
   "cell_type": "code",
   "execution_count": null,
   "metadata": {},
   "outputs": [],
   "source": [
    "import json\n",
    "import torch\n",
    "import os\n",
    "from transformers import AutoTokenizer, AutoModelForCausalLM\n",
    "import re\n",
    "from tqdm import tqdm\n",
    "import glob\n",
    "\n",
    "# Function to split Chinese text into sentences\n",
    "def split_chinese_text(text):\n",
    "    sentence_endings = re.compile(r'([。！？])')\n",
    "    sentences = sentence_endings.split(text)\n",
    "    sentences_with_endings = [\"\".join(i) for i in zip(sentences[0::2], sentences[1::2])]\n",
    "    sentences_with_endings = [s.strip() for s in sentences_with_endings if s.strip()]\n",
    "    return sentences_with_endings\n",
    "\n",
    "# Load the model and tokenizer\n",
    "MODEL_PATH = \"meta-llama/Llama-3.1-8B\"\n",
    "tokenizer = AutoTokenizer.from_pretrained(MODEL_PATH)\n",
    "model = AutoModelForCausalLM.from_pretrained(MODEL_PATH, torch_dtype=torch.float16)\n",
    "\n",
    "# Function to compute perplexity for a single text\n",
    "def compute_ppl(text):\n",
    "    input_ids = tokenizer(text, return_tensors=\"pt\").input_ids\n",
    "    with torch.no_grad():\n",
    "        outputs = model(input_ids, labels=input_ids)\n",
    "        loss = outputs.loss\n",
    "    perplexity = torch.exp(loss).item()\n",
    "    return perplexity\n",
    "\n",
    "# Load PPL evaluation data\n",
    "def load_ppl_eval_data(file_path):\n",
    "    with open(file_path, \"r\", encoding=\"utf-8\") as file:\n",
    "        data = json.load(file)\n",
    "    return data\n",
    "\n",
    "# Compute and print average PPL for each file\n",
    "def compute_and_print_avg_ppl(input_directory):\n",
    "    all_files = glob.glob(f\"{input_directory}/*.json\")\n",
    "    for file_path in all_files:\n",
    "        print(f\"Processing file: {file_path}\")\n",
    "        data = load_ppl_eval_data(file_path)\n",
    "        ppls = []\n",
    "        for entry in tqdm(data):\n",
    "            tgt_text = entry[\"predict\"]\n",
    "            ppl = compute_ppl(tgt_text)\n",
    "            ppls.append(ppl)\n",
    "        avg_ppl = sum(ppls) / len(ppls) if ppls else float('nan')\n",
    "        print(f\"Average PPL for {file_path}: {avg_ppl}\")\n",
    "\n",
    "# Example usage\n",
    "input_directory = \"./llama_results\"  # Replace with your input directory\n",
    "compute_and_print_avg_ppl(input_directory)\n"
   ]
  }
 ],
 "metadata": {
  "kernelspec": {
   "display_name": "hf",
   "language": "python",
   "name": "python3"
  },
  "language_info": {
   "name": "python",
   "version": "3.8.18"
  }
 },
 "nbformat": 4,
 "nbformat_minor": 2
}
